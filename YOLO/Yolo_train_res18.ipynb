{
 "cells": [
  {
   "cell_type": "code",
   "execution_count": 2,
   "outputs": [],
   "source": [
    "from Utils import load_data_voc\n",
    "from model import yolo\n",
    "from torch import nn\n",
    "import torchvision"
   ],
   "metadata": {
    "collapsed": false,
    "pycharm": {
     "name": "#%%\n"
    }
   }
  },
  {
   "cell_type": "code",
   "execution_count": 3,
   "outputs": [],
   "source": [
    "from model import yolo"
   ],
   "metadata": {
    "collapsed": false,
    "pycharm": {
     "name": "#%%\n"
    }
   }
  },
  {
   "cell_type": "code",
   "execution_count": 4,
   "outputs": [
    {
     "name": "stdout",
     "output_type": "stream",
     "text": [
      "Using downloaded and verified file: ../data/VOCDetection/VOCtrainval_06-Nov-2007.tar\n",
      "Extracting ../data/VOCDetection/VOCtrainval_06-Nov-2007.tar to ../data/VOCDetection/\n",
      "Using downloaded and verified file: ../data/VOCDetection/VOCtest_06-Nov-2007.tar\n",
      "Extracting ../data/VOCDetection/VOCtest_06-Nov-2007.tar to ../data/VOCDetection/\n",
      "Using downloaded and verified file: ../data/VOCDetection/VOCtrainval_11-May-2012.tar\n",
      "Extracting ../data/VOCDetection/VOCtrainval_11-May-2012.tar to ../data/VOCDetection/\n",
      "Using downloaded and verified file: ../data/VOCDetection/VOCtrainval_11-May-2012.tar\n",
      "Extracting ../data/VOCDetection/VOCtrainval_11-May-2012.tar to ../data/VOCDetection/\n"
     ]
    }
   ],
   "source": [
    "train_iter,test_iter, test_iter_raw = load_data_voc(batch_size=16,download=True)"
   ],
   "metadata": {
    "collapsed": false,
    "pycharm": {
     "name": "#%%\n"
    }
   }
  },
  {
   "cell_type": "code",
   "execution_count": 5,
   "outputs": [
    {
     "name": "stderr",
     "output_type": "stream",
     "text": [
      "/Users/jh/opt/anaconda3/envs/M1GPU/lib/python3.8/site-packages/torchvision/models/_utils.py:208: UserWarning: The parameter 'pretrained' is deprecated since 0.13 and will be removed in 0.15, please use 'weights' instead.\n",
      "  warnings.warn(\n",
      "/Users/jh/opt/anaconda3/envs/M1GPU/lib/python3.8/site-packages/torchvision/models/_utils.py:223: UserWarning: Arguments other than a weight enum or `None` for 'weights' are deprecated since 0.13 and will be removed in 0.15. The current behavior is equivalent to passing `weights=ResNet18_Weights.IMAGENET1K_V1`. You can also use `weights=ResNet18_Weights.DEFAULT` to get the most up-to-date weights.\n",
      "  warnings.warn(msg)\n"
     ]
    }
   ],
   "source": [
    "resnet18 = torchvision.models.resnet18(pretrained=True)\n",
    "backbone = nn.Sequential(*list(resnet18.children())[:-2])\n",
    "net = yolo.Yolo(backbone,backbone_out_channels=512)"
   ],
   "metadata": {
    "collapsed": false,
    "pycharm": {
     "name": "#%%\n"
    }
   }
  },
  {
   "cell_type": "code",
   "execution_count": null,
   "outputs": [],
   "source": [
    "def lr(epoch):\n",
    "    if epoch < 10 : return 0.001 * (epoch + 1)\n",
    "    if epoch < 85 : return 0.01\n",
    "    if epoch < 115 : return 0.001\n",
    "    if epoch < 145 : return 0.0001\n",
    "\n",
    "yolo.train(net,train_iter,test_iter,145,lr=lr,momentum=0.9,weight_decay=5e-4,accum_batch_num=4,save_path='./model',pretrained=True)"
   ],
   "metadata": {
    "collapsed": false,
    "pycharm": {
     "name": "#%%\n",
     "is_executing": true
    }
   }
  },
  {
   "cell_type": "code",
   "execution_count": null,
   "outputs": [],
   "source": [],
   "metadata": {
    "collapsed": false,
    "pycharm": {
     "name": "#%%\n",
     "is_executing": true
    }
   }
  }
 ],
 "metadata": {
  "kernelspec": {
   "display_name": "Python 3",
   "language": "python",
   "name": "python3"
  },
  "language_info": {
   "codemirror_mode": {
    "name": "ipython",
    "version": 2
   },
   "file_extension": ".py",
   "mimetype": "text/x-python",
   "name": "python",
   "nbconvert_exporter": "python",
   "pygments_lexer": "ipython2",
   "version": "2.7.6"
  }
 },
 "nbformat": 4,
 "nbformat_minor": 0
}